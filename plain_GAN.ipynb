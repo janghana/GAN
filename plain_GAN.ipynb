{
  "cells": [
    {
      "attachments": {},
      "cell_type": "markdown",
      "metadata": {
        "id": "xrUqXYEepD0o"
      },
      "source": [
        "# 1 - Generative Adversarial Networks(GAN)\n",
        "\n",
        "- [Generative Adversarial Networks (NIPS 2014)](https://arxiv.org/abs/1406.2661)\n",
        "\n",
        "> - 2021/03/12 Happy-jihye\n",
        "> - **Reference** : [eriklindernoren/PyTorch-GAN](https://github.com/eriklindernoren/PyTorch-GAN/blob/master/implementations/gan/gan.py)\n",
        "\n",
        "---\n"
      ]
    },
    {
      "attachments": {},
      "cell_type": "markdown",
      "metadata": {
        "id": "a2SWq7FCwzn2"
      },
      "source": [
        "## **GAN - minimax two player game**\n",
        "- Generative Adversarial Networks(GAN)은 adversarial process를 적용한 생성모델입니다. 주어진 입력 데이터와 유사한 데이터를 생성하는 것을 목표로 하며, Generator model과 Discriminative model이 경쟁하며 서로의 성능을 높여가는 재미있는 모델입니다.\n",
        "  - paper에서 나온 예시를 들면, `Generator(G)` 모델은 위조 지폐를 만드는 사람들과 유사하며, `Discriminator(D)` 모델은 위조지폐를 발견하는 경찰과 유사합니다. 생성자는 최대한 기존의 데이터(실제 지폐)와 유사한 지폐를 만들려고 노력하고, 판별자는 데이터 샘플이 모델 분포에서 왔는지(위조지폐), 실제 데이터 분포에서 왔는지(실제 지폐) 판별합니다.\n",
        "  ![](https://github.com/happy-jihye/GAN/blob/main/images/gan3.png?raw=1)\n",
        "  - 즉, **G**는 **가짜 Data를 잘 만들어서 D가 진짜와 가짜를 구별 못하게 하는 것**이 목적이고, **D**는 **진짜 Data와 G가 만들어낸 가짜 Data를 잘 구별하는 것**이 목적입니다.\n",
        "  - 이렇게 D와 G가 서로 **경쟁적으로(Adversarially)** 학습을 하다보면, 실제로 서로에게 학습의 방향성을 제시해주게 되어 `Unsupervised Learning`이 가능해집니다.\n",
        "\n",
        "![](https://github.com/happy-jihye/happy-jihye.github.io/blob/master/_posts/images/1_GAN_files/gan3.jpg?raw=1)\n",
        "\n",
        "### Generator\n",
        "\n",
        "- **G**는 **random noise**를 input으로 받습니다. 보통 이 random noise `z`는 Gaussian과 같은 정규 분포에서 무작위로 추출되며, z vector가 존재하던 공간을 `latent space`라고 부릅니다.\n",
        "- **G**에 latent $z$를 입력하고 나면 **Neural Network**를 거쳐 **Fake image**인 $G(z)$를 생성하게 됩니다. 이때, $x = G(z)$는 $P_g(x)$라는 확률 분포에서 추출된 $x$라고 생각해도 무방합니다.\n",
        "\n",
        "### Discriminator\n",
        "\n",
        "- **G**가 fake image를 생성하고 나면, **D**는 **Fake Image**와 **Real Image**를 input으로 받은 후 **Neural Network**를 거쳐 0과 1사이의 값을 출력하게 됩니다.\n",
        "- **D**가 가짜 이미지라고 판별을 하면 0과 가까운 숫자를 출력하고, 진짜 이미지라고 판별을 하면 1과 가까운 숫자를 출력하게 됩니다.\n",
        "\n",
        "### Object Functions\n",
        "\n",
        "![](https://github.com/happy-jihye/happy-jihye.github.io/blob/master/_posts/images/1_GAN_files/gan4.png?raw=1)\n",
        "\n",
        "- GAN을 수식으로 표현하면 다음과 같으며, `minimax game`의 global optimum에 도달하면 **D**는 $D^*_G(x)=\\frac{p_{data}(x)}{p_{data}(x)+p_{g}(x)}$가 되며, **G**는 $p_{data}(x)=p_{g}(x)$ 가 됩니다.\n"
      ]
    },
    {
      "cell_type": "code",
      "execution_count": 2,
      "metadata": {
        "id": "CiRb7M3naHyo"
      },
      "outputs": [],
      "source": [
        "import torch\n",
        "import torch.nn as nn\n",
        "\n",
        "import numpy as np\n",
        "\n",
        "# for MNIST data\n",
        "import torchvision\n",
        "from torchvision import datasets\n",
        "import torchvision.transforms as transforms\n",
        "from torchvision.utils import save_image\n",
        "from torch.autograd import Variable\n",
        "\n",
        "\n",
        "import matplotlib.pyplot as plt"
      ]
    },
    {
      "attachments": {},
      "cell_type": "markdown",
      "metadata": {
        "id": "NOilX0rBqJXn"
      },
      "source": [
        "## Preparing data\n",
        "### **Loading MNIST Data**"
      ]
    },
    {
      "attachments": {},
      "cell_type": "markdown",
      "metadata": {
        "id": "zo-9EdL8yE1F"
      },
      "source": [
        "- 이번 예제에서는 실제 MNIST training images를 활용하여 MNIST 숫자를 생성하는 GAN model을 만들 예정입니다.\n",
        "- [How to Build a Streaming DataLoader with PyTorch](https://medium.com/speechmatics/how-to-build-a-streaming-dataloader-with-pytorch-a66dd891d9dd)"
      ]
    },
    {
      "cell_type": "code",
      "execution_count": 3,
      "metadata": {
        "colab": {
          "base_uri": "https://localhost:8080/"
        },
        "id": "HrhXIwtAqM7H",
        "outputId": "c44a9864-aa14-49ce-80bd-e388a8d9c3d5"
      },
      "outputs": [
        {
          "name": "stdout",
          "output_type": "stream",
          "text": [
            "Downloading http://yann.lecun.com/exdb/mnist/train-images-idx3-ubyte.gz\n",
            "Downloading http://yann.lecun.com/exdb/mnist/train-images-idx3-ubyte.gz to ./dataset/MNIST/raw/train-images-idx3-ubyte.gz\n"
          ]
        },
        {
          "name": "stderr",
          "output_type": "stream",
          "text": [
            "100%|██████████| 9912422/9912422 [00:00<00:00, 103903691.10it/s]\n"
          ]
        },
        {
          "name": "stdout",
          "output_type": "stream",
          "text": [
            "Extracting ./dataset/MNIST/raw/train-images-idx3-ubyte.gz to ./dataset/MNIST/raw\n",
            "\n",
            "Downloading http://yann.lecun.com/exdb/mnist/train-labels-idx1-ubyte.gz\n",
            "Downloading http://yann.lecun.com/exdb/mnist/train-labels-idx1-ubyte.gz to ./dataset/MNIST/raw/train-labels-idx1-ubyte.gz\n"
          ]
        },
        {
          "name": "stderr",
          "output_type": "stream",
          "text": [
            "100%|██████████| 28881/28881 [00:00<00:00, 97375959.67it/s]\n"
          ]
        },
        {
          "name": "stdout",
          "output_type": "stream",
          "text": [
            "Extracting ./dataset/MNIST/raw/train-labels-idx1-ubyte.gz to ./dataset/MNIST/raw\n",
            "\n",
            "Downloading http://yann.lecun.com/exdb/mnist/t10k-images-idx3-ubyte.gz\n",
            "Downloading http://yann.lecun.com/exdb/mnist/t10k-images-idx3-ubyte.gz to ./dataset/MNIST/raw/t10k-images-idx3-ubyte.gz\n"
          ]
        },
        {
          "name": "stderr",
          "output_type": "stream",
          "text": [
            "100%|██████████| 1648877/1648877 [00:00<00:00, 28099215.83it/s]\n"
          ]
        },
        {
          "name": "stdout",
          "output_type": "stream",
          "text": [
            "Extracting ./dataset/MNIST/raw/t10k-images-idx3-ubyte.gz to ./dataset/MNIST/raw\n",
            "\n",
            "Downloading http://yann.lecun.com/exdb/mnist/t10k-labels-idx1-ubyte.gz\n",
            "Downloading http://yann.lecun.com/exdb/mnist/t10k-labels-idx1-ubyte.gz to ./dataset/MNIST/raw/t10k-labels-idx1-ubyte.gz\n"
          ]
        },
        {
          "name": "stderr",
          "output_type": "stream",
          "text": [
            "100%|██████████| 4542/4542 [00:00<00:00, 10319896.41it/s]\n"
          ]
        },
        {
          "name": "stdout",
          "output_type": "stream",
          "text": [
            "Extracting ./dataset/MNIST/raw/t10k-labels-idx1-ubyte.gz to ./dataset/MNIST/raw\n",
            "\n"
          ]
        },
        {
          "name": "stderr",
          "output_type": "stream",
          "text": [
            "/usr/local/lib/python3.10/dist-packages/torch/utils/data/dataloader.py:560: UserWarning: This DataLoader will create 4 worker processes in total. Our suggested max number of worker in current system is 2, which is smaller than what this DataLoader is going to create. Please be aware that excessive worker creation might get DataLoader running slow or even freeze, lower the worker number to avoid potential slowness/freeze if necessary.\n",
            "  warnings.warn(_create_warning_msg(\n"
          ]
        }
      ],
      "source": [
        "# download the MINST data\n",
        "\n",
        "batch_size = 64\n",
        "\n",
        "transforms_train = transforms.Compose([\n",
        "    transforms.Resize(28),\n",
        "    transforms.ToTensor(), # data를 pytorch의 tensor형식으로 바꿉니다\n",
        "    transforms.Normalize([0.5], [0.5]) # 픽셀값을 0 ~ 1에서 -1 ~ 1 로 바꿔줍니다.\n",
        "])\n",
        "\n",
        "train_dataset = datasets.MNIST(root=\"./dataset\", train=True, download=True, transform=transforms_train)\n",
        "\n",
        "# data를 batch size만큼만 가져오는 dataloader를 만듭니다.\n",
        "dataloader = torch.utils.data.DataLoader(train_dataset, batch_size = batch_size, shuffle=True, num_workers=4)"
      ]
    },
    {
      "attachments": {},
      "cell_type": "markdown",
      "metadata": {
        "id": "oEKSLFR90OBi"
      },
      "source": [
        "- 하나의 batch에 들어있는 mnist data를 출력해보았습니다."
      ]
    },
    {
      "cell_type": "code",
      "execution_count": 4,
      "metadata": {
        "colab": {
          "base_uri": "https://localhost:8080/",
          "height": 491
        },
        "id": "hpPi14eUzLWI",
        "outputId": "d92ba8b1-913a-4a96-9479-e558ddbc3e9d"
      },
      "outputs": [
        {
          "name": "stdout",
          "output_type": "stream",
          "text": [
            "[tensor(8), tensor(2), tensor(7), tensor(1), tensor(8), tensor(0), tensor(9), tensor(5), tensor(5), tensor(0), tensor(9), tensor(8), tensor(1), tensor(3), tensor(8), tensor(8), tensor(3), tensor(2), tensor(0), tensor(2), tensor(2), tensor(7), tensor(4), tensor(4), tensor(2), tensor(6), tensor(6), tensor(3), tensor(1), tensor(3), tensor(7), tensor(4), tensor(2), tensor(6), tensor(5), tensor(8), tensor(2), tensor(1), tensor(5), tensor(4), tensor(6), tensor(8), tensor(2), tensor(9), tensor(1), tensor(3), tensor(8), tensor(7), tensor(2), tensor(4), tensor(1), tensor(9), tensor(4), tensor(2), tensor(2), tensor(8), tensor(8), tensor(5), tensor(3), tensor(0), tensor(0), tensor(1), tensor(1), tensor(8)]\n"
          ]
        },
        {
          "data": {
            "text/plain": [
              "<matplotlib.image.AxesImage at 0x7f2eb86534c0>"
            ]
          },
          "execution_count": 4,
          "metadata": {},
          "output_type": "execute_result"
        },
        {
          "data": {
            "image/png": "[encoded data removed]",
            "text/plain": [
              "<Figure size 640x480 with 1 Axes>"
            ]
          },
          "metadata": {},
          "output_type": "display_data"
        }
      ],
      "source": [
        "images, labels = next(iter(dataloader))\n",
        "img = torchvision.utils.make_grid(images)\n",
        "\n",
        "img = img.numpy().transpose(1,2,0)\n",
        "std = [0.5,0.5,0.5]\n",
        "mean = [0.5,0.5,0.5]\n",
        "img = img*std+mean\n",
        "print([labels[i] for i in range(64)])\n",
        "plt.imshow(img)"
      ]
    },
    {
      "cell_type": "code",
      "execution_count": 5,
      "metadata": {
        "id": "ONQYN5Neow0A"
      },
      "outputs": [],
      "source": [
        "# image\n",
        "\n",
        "channels = 1\n",
        "img_size = 28\n",
        "\n",
        "img_shape = (channels, img_size, img_size)"
      ]
    },
    {
      "attachments": {},
      "cell_type": "markdown",
      "metadata": {
        "id": "tp4hbA95pihv"
      },
      "source": [
        "## Build Model\n",
        "### Generator\n"
      ]
    },
    {
      "attachments": {},
      "cell_type": "markdown",
      "metadata": {
        "id": "04p59hut8L3S"
      },
      "source": [
        "- 생성자는 random vector `z`를 입력받아 가짜 이미지를 출력하는 함수입니다. 여기서 **z**는 정규분포(Normal Distribution)에서 무작위로 추출한 값으로, z vector가 존재하는 공간을 잠재공간(latent space)라고 부릅니다.\n",
        "  - 이 튜토리얼에서는 잠재공간의 크기를 100으로 뒀으며, 잠재공간의 크기에는 제한이 없으나 나타내려고 하는 대상의 정보를 충분히 담을 수 있을 만큼 커야합니다.\n",
        "- 즉, 생성자는 단순한 분포에서 사람 얼굴 이미지와 같은 복잡한 분포로 mapping하는 함수라고 볼 수 있습니다.\n",
        "![](https://github.com/happy-jihye/GAN/blob/main/images/gan4.png?raw=1)\n",
        "\n",
        "- 생성자에 충분히 많은 매개변수를 확보하기 위해 여러개의 layer를 쌓아서 생성자를 만들었습니다.\n",
        "- [참고](https://dreamgonfly.github.io/blog/gan-explained/)"
      ]
    },
    {
      "cell_type": "code",
      "execution_count": 6,
      "metadata": {
        "id": "Hj5al6cTZES1"
      },
      "outputs": [],
      "source": [
        "# dimensionality of the latent space\n",
        "# latent vector를 추출하기 위한 noise 분포의 dimension (정규분포를 따름)\n",
        "latent_dim = 100\n",
        "\n",
        "class Generator(nn.Module):\n",
        "    def __init__(self):\n",
        "        super(Generator, self).__init__()\n",
        "\n",
        "        def block(input_dim, output_dim, normalize=True):\n",
        "            layers = [nn.Linear(input_dim, output_dim)]\n",
        "            if normalize:\n",
        "                layers.append(nn.BatchNorm1d(output_dim, 0.8))\n",
        "            layers.append(nn.LeakyReLU(0.2, inplace=True))\n",
        "            return layers\n",
        "\n",
        "        # generater의 model은 여러개의 block을 쌓아서 만들어짐\n",
        "        self.model = nn.Sequential(\n",
        "            *block(latent_dim, 128, normalize=False),\n",
        "            *block(128, 256),\n",
        "            *block(256, 512),\n",
        "            *block(512, 1024),\n",
        "            nn.Linear(1024, int(np.prod(img_shape))),\n",
        "            nn.Tanh()\n",
        "        )\n",
        "\n",
        "    def forward(self, z):\n",
        "        # z : input noise vector\n",
        "        img = self.model(z)\n",
        "        img = img.view(img.size(0), *img_shape)\n",
        "        return img"
      ]
    },
    {
      "attachments": {},
      "cell_type": "markdown",
      "metadata": {
        "id": "znyoFjUCprGO"
      },
      "source": [
        "### Discriminator"
      ]
    },
    {
      "attachments": {},
      "cell_type": "markdown",
      "metadata": {
        "id": "_igjRTeQ5Xbz"
      },
      "source": [
        "![](https://github.com/happy-jihye/GAN/blob/main/images/gan2.png?raw=1)"
      ]
    },
    {
      "cell_type": "code",
      "execution_count": 7,
      "metadata": {
        "id": "M_kvtvOhaLX6"
      },
      "outputs": [],
      "source": [
        "class Discriminator(nn.Module):\n",
        "    def __init__(self):\n",
        "        super(Discriminator, self).__init__()\n",
        "\n",
        "        self.model = nn.Sequential(\n",
        "            nn.Linear(int(np.prod(img_shape)), 512),\n",
        "            nn.LeakyReLU(0.2, inplace=True),\n",
        "            nn.Linear(512, 256),\n",
        "            nn.LeakyReLU(0.2, inplace=True),\n",
        "            nn.Linear(256, 1),\n",
        "            nn.Sigmoid(),\n",
        "        )\n",
        "\n",
        "    # 이미지에 대한 판별 결과를 반환\n",
        "    def forward(self, img):\n",
        "        img_flat = img.view(img.size(0), -1)\n",
        "        validity = self.model(img_flat)\n",
        "\n",
        "        return validity"
      ]
    },
    {
      "attachments": {},
      "cell_type": "markdown",
      "metadata": {
        "id": "K54Z7PNIqTkO"
      },
      "source": [
        "### Loss Function & Optimizer\n",
        "\n",
        "- 손실 함수로는 Binary Cross Entropy를, 최적화 함수로는 Adam을 사용합니다."
      ]
    },
    {
      "cell_type": "code",
      "execution_count": 8,
      "metadata": {
        "id": "tBZf0BmBaN7l"
      },
      "outputs": [],
      "source": [
        "''' Hyper parameter '''\n",
        "# learning rate\n",
        "lr = 0.0002\n",
        "\n",
        "# decay of first order momentum of gradient\n",
        "b1 = 0.5\n",
        "b2 = 0.999\n",
        "\n",
        "\n",
        "# Initialize generator and discriminator\n",
        "generator = Generator()\n",
        "discriminator = Discriminator()\n",
        "\n",
        "# Loss function\n",
        "adversarial_loss = nn.BCELoss()\n",
        "\n",
        "# Adam Optimizer\n",
        "optimizer_G = torch.optim.Adam(generator.parameters(), lr=lr, betas=(b1, b2))\n",
        "optimizer_D = torch.optim.Adam(discriminator.parameters(), lr=lr, betas=(b1, b2))"
      ]
    },
    {
      "cell_type": "code",
      "execution_count": 9,
      "metadata": {
        "id": "KanyJ4VjrCUl"
      },
      "outputs": [],
      "source": [
        "# GPU\n",
        "cuda = True if torch.cuda.is_available() else False\n",
        "\n",
        "if cuda :\n",
        "  generator.cuda()\n",
        "  discriminator.cuda()\n",
        "  adversarial_loss.cuda()"
      ]
    },
    {
      "attachments": {},
      "cell_type": "markdown",
      "metadata": {
        "id": "F9ThAQIOt-74"
      },
      "source": [
        "## Training"
      ]
    },
    {
      "attachments": {},
      "cell_type": "markdown",
      "metadata": {
        "id": "IkTiFOyW6coh"
      },
      "source": [
        "- GAN model에서는 근사적인 추론이나 Markov chains을 사용하지 않고, back-propagation만을 이용하여 gradient를 업데이트합니다."
      ]
    },
    {
      "cell_type": "code",
      "execution_count": 10,
      "metadata": {
        "colab": {
          "base_uri": "https://localhost:8080/"
        },
        "id": "srQI5xI6ar-X",
        "outputId": "a15de684-41cd-4c64-fb23-90f003ee9b12"
      },
      "outputs": [
        {
          "name": "stdout",
          "output_type": "stream",
          "text": [
            "[Epoch 0/200] [D loss: 0.296387] [G loss: 1.046236] [Elapsed time: 23.22s]\n",
            "[Epoch 1/200] [D loss: 0.550256] [G loss: 0.455399] [Elapsed time: 43.96s]\n",
            "[Epoch 2/200] [D loss: 0.243455] [G loss: 1.501073] [Elapsed time: 65.02s]\n",
            "[Epoch 3/200] [D loss: 0.369738] [G loss: 0.928543] [Elapsed time: 84.84s]\n",
            "[Epoch 4/200] [D loss: 0.157139] [G loss: 2.123863] [Elapsed time: 105.88s]\n",
            "[Epoch 5/200] [D loss: 0.157651] [G loss: 2.316069] [Elapsed time: 126.73s]\n",
            "[Epoch 6/200] [D loss: 0.172615] [G loss: 1.803710] [Elapsed time: 147.30s]\n",
            "[Epoch 7/200] [D loss: 0.312294] [G loss: 1.145622] [Elapsed time: 168.28s]\n",
            "[Epoch 8/200] [D loss: 0.340605] [G loss: 4.528334] [Elapsed time: 188.45s]\n",
            "[Epoch 9/200] [D loss: 0.380091] [G loss: 0.965522] [Elapsed time: 209.49s]\n",
            "[Epoch 10/200] [D loss: 0.252857] [G loss: 1.195887] [Elapsed time: 231.48s]\n",
            "[Epoch 11/200] [D loss: 0.233341] [G loss: 2.123772] [Elapsed time: 251.77s]\n",
            "[Epoch 12/200] [D loss: 0.266233] [G loss: 2.561328] [Elapsed time: 273.07s]\n",
            "[Epoch 13/200] [D loss: 0.448719] [G loss: 0.622246] [Elapsed time: 293.17s]\n",
            "[Epoch 14/200] [D loss: 0.133160] [G loss: 2.191125] [Elapsed time: 314.58s]\n",
            "[Epoch 15/200] [D loss: 0.229268] [G loss: 1.341245] [Elapsed time: 335.09s]\n",
            "[Epoch 16/200] [D loss: 0.383697] [G loss: 1.517559] [Elapsed time: 355.72s]\n",
            "[Epoch 17/200] [D loss: 0.185610] [G loss: 4.172586] [Elapsed time: 377.06s]\n",
            "[Epoch 18/200] [D loss: 0.257084] [G loss: 2.931761] [Elapsed time: 397.16s]\n",
            "[Epoch 19/200] [D loss: 0.217130] [G loss: 1.675708] [Elapsed time: 417.85s]\n",
            "[Epoch 20/200] [D loss: 0.126093] [G loss: 2.105503] [Elapsed time: 437.51s]\n",
            "[Epoch 21/200] [D loss: 0.249639] [G loss: 1.780270] [Elapsed time: 459.51s]\n",
            "[Epoch 22/200] [D loss: 0.141876] [G loss: 3.035528] [Elapsed time: 480.62s]\n",
            "[Epoch 23/200] [D loss: 0.833682] [G loss: 6.384370] [Elapsed time: 501.80s]\n",
            "[Epoch 24/200] [D loss: 0.285550] [G loss: 1.789431] [Elapsed time: 524.23s]\n",
            "[Epoch 25/200] [D loss: 0.170215] [G loss: 2.217093] [Elapsed time: 545.61s]\n",
            "[Epoch 26/200] [D loss: 0.137071] [G loss: 2.348700] [Elapsed time: 565.75s]\n",
            "[Epoch 27/200] [D loss: 0.195774] [G loss: 2.675048] [Elapsed time: 586.56s]\n",
            "[Epoch 28/200] [D loss: 0.349025] [G loss: 2.208239] [Elapsed time: 606.23s]\n",
            "[Epoch 29/200] [D loss: 0.106730] [G loss: 3.250015] [Elapsed time: 627.03s]\n",
            "[Epoch 30/200] [D loss: 0.204795] [G loss: 2.756890] [Elapsed time: 646.74s]\n",
            "[Epoch 31/200] [D loss: 0.350711] [G loss: 2.187373] [Elapsed time: 667.56s]\n",
            "[Epoch 32/200] [D loss: 0.276174] [G loss: 1.235773] [Elapsed time: 688.99s]\n",
            "[Epoch 33/200] [D loss: 0.220933] [G loss: 2.776729] [Elapsed time: 709.42s]\n",
            "[Epoch 34/200] [D loss: 0.295621] [G loss: 3.029476] [Elapsed time: 730.93s]\n",
            "[Epoch 35/200] [D loss: 0.166529] [G loss: 2.031064] [Elapsed time: 750.94s]\n",
            "[Epoch 36/200] [D loss: 0.284219] [G loss: 1.904998] [Elapsed time: 772.06s]\n",
            "[Epoch 37/200] [D loss: 0.236478] [G loss: 2.658398] [Elapsed time: 793.18s]\n",
            "[Epoch 38/200] [D loss: 0.208568] [G loss: 1.739580] [Elapsed time: 813.25s]\n",
            "[Epoch 39/200] [D loss: 0.370847] [G loss: 1.104420] [Elapsed time: 834.26s]\n",
            "[Epoch 40/200] [D loss: 0.381504] [G loss: 1.899547] [Elapsed time: 854.22s]\n",
            "[Epoch 41/200] [D loss: 0.457603] [G loss: 1.002253] [Elapsed time: 875.44s]\n",
            "[Epoch 42/200] [D loss: 0.279145] [G loss: 2.134023] [Elapsed time: 896.14s]\n",
            "[Epoch 43/200] [D loss: 0.360332] [G loss: 2.726265] [Elapsed time: 916.62s]\n",
            "[Epoch 44/200] [D loss: 0.239879] [G loss: 1.812362] [Elapsed time: 937.85s]\n",
            "[Epoch 45/200] [D loss: 0.219934] [G loss: 2.695647] [Elapsed time: 957.88s]\n",
            "[Epoch 46/200] [D loss: 0.142106] [G loss: 2.335401] [Elapsed time: 979.08s]\n",
            "[Epoch 47/200] [D loss: 0.156059] [G loss: 2.335734] [Elapsed time: 999.27s]\n",
            "[Epoch 48/200] [D loss: 0.268106] [G loss: 2.839276] [Elapsed time: 1019.95s]\n",
            "[Epoch 49/200] [D loss: 0.286037] [G loss: 2.107572] [Elapsed time: 1041.09s]\n",
            "[Epoch 50/200] [D loss: 0.245461] [G loss: 2.009062] [Elapsed time: 1061.30s]\n",
            "[Epoch 51/200] [D loss: 0.376062] [G loss: 2.102991] [Elapsed time: 1082.31s]\n",
            "[Epoch 52/200] [D loss: 0.233104] [G loss: 2.702320] [Elapsed time: 1102.64s]\n",
            "[Epoch 53/200] [D loss: 0.316646] [G loss: 2.148320] [Elapsed time: 1123.86s]\n",
            "[Epoch 54/200] [D loss: 0.143505] [G loss: 2.226585] [Elapsed time: 1144.14s]\n",
            "[Epoch 55/200] [D loss: 0.202009] [G loss: 2.053287] [Elapsed time: 1164.81s]\n",
            "[Epoch 56/200] [D loss: 0.370128] [G loss: 2.123368] [Elapsed time: 1185.77s]\n",
            "[Epoch 57/200] [D loss: 0.177113] [G loss: 2.306585] [Elapsed time: 1205.53s]\n",
            "[Epoch 58/200] [D loss: 0.378442] [G loss: 2.011988] [Elapsed time: 1226.72s]\n",
            "[Epoch 59/200] [D loss: 0.442564] [G loss: 3.681591] [Elapsed time: 1246.59s]\n",
            "[Epoch 60/200] [D loss: 0.202174] [G loss: 1.763789] [Elapsed time: 1267.48s]\n",
            "[Epoch 61/200] [D loss: 0.253951] [G loss: 1.582392] [Elapsed time: 1288.29s]\n",
            "[Epoch 62/200] [D loss: 0.322328] [G loss: 2.210318] [Elapsed time: 1308.55s]\n",
            "[Epoch 63/200] [D loss: 0.168926] [G loss: 2.000051] [Elapsed time: 1329.72s]\n",
            "[Epoch 64/200] [D loss: 0.167583] [G loss: 1.894587] [Elapsed time: 1349.99s]\n",
            "[Epoch 65/200] [D loss: 0.271384] [G loss: 2.527702] [Elapsed time: 1371.29s]\n",
            "[Epoch 66/200] [D loss: 0.276695] [G loss: 1.790356] [Elapsed time: 1392.21s]\n",
            "[Epoch 67/200] [D loss: 0.199373] [G loss: 2.091717] [Elapsed time: 1412.80s]\n",
            "[Epoch 68/200] [D loss: 0.319548] [G loss: 1.792072] [Elapsed time: 1434.16s]\n",
            "[Epoch 69/200] [D loss: 0.199319] [G loss: 1.940425] [Elapsed time: 1454.37s]\n",
            "[Epoch 70/200] [D loss: 0.214255] [G loss: 2.025651] [Elapsed time: 1475.25s]\n",
            "[Epoch 71/200] [D loss: 0.143145] [G loss: 2.268818] [Elapsed time: 1495.39s]\n",
            "[Epoch 72/200] [D loss: 0.264657] [G loss: 2.184336] [Elapsed time: 1515.92s]\n",
            "[Epoch 73/200] [D loss: 0.248101] [G loss: 2.462029] [Elapsed time: 1537.09s]\n",
            "[Epoch 74/200] [D loss: 0.224901] [G loss: 2.393545] [Elapsed time: 1557.03s]\n",
            "[Epoch 75/200] [D loss: 0.214624] [G loss: 2.438805] [Elapsed time: 1578.26s]\n",
            "[Epoch 76/200] [D loss: 0.289061] [G loss: 1.954663] [Elapsed time: 1598.44s]\n",
            "[Epoch 77/200] [D loss: 0.295215] [G loss: 3.007461] [Elapsed time: 1619.68s]\n",
            "[Epoch 78/200] [D loss: 0.239908] [G loss: 2.503983] [Elapsed time: 1640.71s]\n",
            "[Epoch 79/200] [D loss: 0.268555] [G loss: 2.518131] [Elapsed time: 1660.38s]\n",
            "[Epoch 80/200] [D loss: 0.259969] [G loss: 2.429532] [Elapsed time: 1681.30s]\n",
            "[Epoch 81/200] [D loss: 0.217830] [G loss: 2.623433] [Elapsed time: 1701.64s]\n",
            "[Epoch 82/200] [D loss: 0.247632] [G loss: 2.171248] [Elapsed time: 1723.54s]\n",
            "[Epoch 83/200] [D loss: 0.146660] [G loss: 2.142175] [Elapsed time: 1745.36s]\n",
            "[Epoch 84/200] [D loss: 0.200729] [G loss: 3.131018] [Elapsed time: 1765.46s]\n",
            "[Epoch 85/200] [D loss: 0.125196] [G loss: 2.491079] [Elapsed time: 1786.51s]\n",
            "[Epoch 86/200] [D loss: 0.213698] [G loss: 3.280216] [Elapsed time: 1806.45s]\n",
            "[Epoch 87/200] [D loss: 0.185491] [G loss: 1.962940] [Elapsed time: 1827.76s]\n",
            "[Epoch 88/200] [D loss: 0.275785] [G loss: 2.059863] [Elapsed time: 1849.25s]\n",
            "[Epoch 89/200] [D loss: 0.356625] [G loss: 1.786579] [Elapsed time: 1869.78s]\n",
            "[Epoch 90/200] [D loss: 0.293930] [G loss: 2.093971] [Elapsed time: 1891.12s]\n",
            "[Epoch 91/200] [D loss: 0.262357] [G loss: 2.100623] [Elapsed time: 1911.34s]\n",
            "[Epoch 92/200] [D loss: 0.323007] [G loss: 3.101069] [Elapsed time: 1932.42s]\n",
            "[Epoch 93/200] [D loss: 0.131958] [G loss: 2.598207] [Elapsed time: 1953.10s]\n",
            "[Epoch 94/200] [D loss: 0.294281] [G loss: 3.471568] [Elapsed time: 1973.69s]\n",
            "[Epoch 95/200] [D loss: 0.203363] [G loss: 2.195376] [Elapsed time: 1995.64s]\n",
            "[Epoch 96/200] [D loss: 0.117020] [G loss: 2.775087] [Elapsed time: 2016.28s]\n",
            "[Epoch 97/200] [D loss: 0.260871] [G loss: 2.464619] [Elapsed time: 2037.86s]\n",
            "[Epoch 98/200] [D loss: 0.222277] [G loss: 1.944414] [Elapsed time: 2059.89s]\n",
            "[Epoch 99/200] [D loss: 0.300854] [G loss: 1.707511] [Elapsed time: 2080.62s]\n",
            "[Epoch 100/200] [D loss: 0.236518] [G loss: 2.746901] [Elapsed time: 2102.35s]\n",
            "[Epoch 101/200] [D loss: 0.222531] [G loss: 3.110201] [Elapsed time: 2124.25s]\n",
            "[Epoch 102/200] [D loss: 0.173654] [G loss: 2.122989] [Elapsed time: 2145.86s]\n",
            "[Epoch 103/200] [D loss: 0.226355] [G loss: 1.571849] [Elapsed time: 2168.44s]\n",
            "[Epoch 104/200] [D loss: 0.171980] [G loss: 2.147211] [Elapsed time: 2189.90s]\n",
            "[Epoch 105/200] [D loss: 0.186228] [G loss: 2.042506] [Elapsed time: 2209.75s]\n",
            "[Epoch 106/200] [D loss: 0.245018] [G loss: 2.367534] [Elapsed time: 2230.44s]\n",
            "[Epoch 107/200] [D loss: 0.381071] [G loss: 1.081990] [Elapsed time: 2251.61s]\n",
            "[Epoch 108/200] [D loss: 0.295142] [G loss: 1.952083] [Elapsed time: 2271.42s]\n",
            "[Epoch 109/200] [D loss: 0.224769] [G loss: 1.744633] [Elapsed time: 2291.76s]\n",
            "[Epoch 110/200] [D loss: 0.197156] [G loss: 2.003525] [Elapsed time: 2312.20s]\n",
            "[Epoch 111/200] [D loss: 0.256539] [G loss: 3.041819] [Elapsed time: 2331.93s]\n",
            "[Epoch 112/200] [D loss: 0.156080] [G loss: 2.058616] [Elapsed time: 2352.41s]\n",
            "[Epoch 113/200] [D loss: 0.288875] [G loss: 2.460410] [Elapsed time: 2372.86s]\n",
            "[Epoch 114/200] [D loss: 0.132145] [G loss: 3.204614] [Elapsed time: 2392.55s]\n",
            "[Epoch 115/200] [D loss: 0.291311] [G loss: 2.134926] [Elapsed time: 2413.01s]\n",
            "[Epoch 116/200] [D loss: 0.255345] [G loss: 2.565372] [Elapsed time: 2433.30s]\n",
            "[Epoch 117/200] [D loss: 0.222133] [G loss: 2.699247] [Elapsed time: 2452.84s]\n",
            "[Epoch 118/200] [D loss: 0.208714] [G loss: 2.451810] [Elapsed time: 2473.02s]\n",
            "[Epoch 119/200] [D loss: 0.278215] [G loss: 2.102578] [Elapsed time: 2493.40s]\n",
            "[Epoch 120/200] [D loss: 0.149642] [G loss: 2.628013] [Elapsed time: 2513.09s]\n",
            "[Epoch 121/200] [D loss: 0.349938] [G loss: 2.583469] [Elapsed time: 2533.06s]\n",
            "[Epoch 122/200] [D loss: 0.178637] [G loss: 2.145252] [Elapsed time: 2552.56s]\n",
            "[Epoch 123/200] [D loss: 0.173984] [G loss: 2.594609] [Elapsed time: 2572.45s]\n",
            "[Epoch 124/200] [D loss: 0.176387] [G loss: 2.568743] [Elapsed time: 2592.17s]\n",
            "[Epoch 125/200] [D loss: 0.256579] [G loss: 2.022004] [Elapsed time: 2611.77s]\n",
            "[Epoch 126/200] [D loss: 0.316564] [G loss: 2.515361] [Elapsed time: 2632.04s]\n",
            "[Epoch 127/200] [D loss: 0.167924] [G loss: 2.331310] [Elapsed time: 2652.96s]\n",
            "[Epoch 128/200] [D loss: 0.175883] [G loss: 1.985235] [Elapsed time: 2673.31s]\n",
            "[Epoch 129/200] [D loss: 0.253234] [G loss: 2.144376] [Elapsed time: 2693.97s]\n",
            "[Epoch 130/200] [D loss: 0.376674] [G loss: 2.247566] [Elapsed time: 2714.09s]\n",
            "[Epoch 131/200] [D loss: 0.298184] [G loss: 1.895026] [Elapsed time: 2733.51s]\n",
            "[Epoch 132/200] [D loss: 0.224963] [G loss: 2.294464] [Elapsed time: 2753.56s]\n",
            "[Epoch 133/200] [D loss: 0.210678] [G loss: 2.061872] [Elapsed time: 2773.63s]\n",
            "[Epoch 134/200] [D loss: 0.293948] [G loss: 1.954398] [Elapsed time: 2793.03s]\n",
            "[Epoch 135/200] [D loss: 0.323464] [G loss: 2.106833] [Elapsed time: 2813.37s]\n",
            "[Epoch 136/200] [D loss: 0.213269] [G loss: 2.623562] [Elapsed time: 2833.17s]\n",
            "[Epoch 137/200] [D loss: 0.304278] [G loss: 1.545556] [Elapsed time: 2852.85s]\n",
            "[Epoch 138/200] [D loss: 0.290731] [G loss: 1.938767] [Elapsed time: 2873.21s]\n",
            "[Epoch 139/200] [D loss: 0.149716] [G loss: 2.617290] [Elapsed time: 2892.84s]\n",
            "[Epoch 140/200] [D loss: 0.193100] [G loss: 1.723694] [Elapsed time: 2913.09s]\n",
            "[Epoch 141/200] [D loss: 0.214136] [G loss: 2.594373] [Elapsed time: 2933.12s]\n",
            "[Epoch 142/200] [D loss: 0.271643] [G loss: 2.018460] [Elapsed time: 2952.52s]\n",
            "[Epoch 143/200] [D loss: 0.285156] [G loss: 1.708319] [Elapsed time: 2972.88s]\n",
            "[Epoch 144/200] [D loss: 0.286351] [G loss: 1.755540] [Elapsed time: 2993.01s]\n",
            "[Epoch 145/200] [D loss: 0.363207] [G loss: 2.278672] [Elapsed time: 3012.44s]\n",
            "[Epoch 146/200] [D loss: 0.209515] [G loss: 1.988920] [Elapsed time: 3032.50s]\n",
            "[Epoch 147/200] [D loss: 0.298990] [G loss: 2.184693] [Elapsed time: 3052.87s]\n",
            "[Epoch 148/200] [D loss: 0.299815] [G loss: 1.739773] [Elapsed time: 3072.89s]\n",
            "[Epoch 149/200] [D loss: 0.243220] [G loss: 2.363188] [Elapsed time: 3093.30s]\n",
            "[Epoch 150/200] [D loss: 0.260224] [G loss: 2.146410] [Elapsed time: 3113.71s]\n",
            "[Epoch 151/200] [D loss: 0.440985] [G loss: 1.857103] [Elapsed time: 3133.43s]\n",
            "[Epoch 152/200] [D loss: 0.236032] [G loss: 1.776540] [Elapsed time: 3153.59s]\n",
            "[Epoch 153/200] [D loss: 0.429325] [G loss: 2.431201] [Elapsed time: 3173.42s]\n",
            "[Epoch 154/200] [D loss: 0.320913] [G loss: 2.266162] [Elapsed time: 3192.87s]\n",
            "[Epoch 155/200] [D loss: 0.312661] [G loss: 2.308767] [Elapsed time: 3213.57s]\n",
            "[Epoch 156/200] [D loss: 0.402253] [G loss: 2.187828] [Elapsed time: 3234.38s]\n",
            "[Epoch 157/200] [D loss: 0.263660] [G loss: 2.182534] [Elapsed time: 3254.19s]\n",
            "[Epoch 158/200] [D loss: 0.418319] [G loss: 1.375051] [Elapsed time: 3274.48s]\n",
            "[Epoch 159/200] [D loss: 0.284124] [G loss: 2.735835] [Elapsed time: 3294.16s]\n",
            "[Epoch 160/200] [D loss: 0.132111] [G loss: 2.370198] [Elapsed time: 3314.11s]\n",
            "[Epoch 161/200] [D loss: 0.306471] [G loss: 1.540665] [Elapsed time: 3335.08s]\n",
            "[Epoch 162/200] [D loss: 0.198604] [G loss: 2.166088] [Elapsed time: 3355.55s]\n",
            "[Epoch 163/200] [D loss: 0.334416] [G loss: 2.246967] [Elapsed time: 3375.53s]\n",
            "[Epoch 164/200] [D loss: 0.304928] [G loss: 2.431880] [Elapsed time: 3396.05s]\n",
            "[Epoch 165/200] [D loss: 0.232920] [G loss: 2.050292] [Elapsed time: 3415.73s]\n",
            "[Epoch 166/200] [D loss: 0.245406] [G loss: 2.429369] [Elapsed time: 3435.58s]\n",
            "[Epoch 167/200] [D loss: 0.168440] [G loss: 2.153873] [Elapsed time: 3456.20s]\n",
            "[Epoch 168/200] [D loss: 0.269949] [G loss: 1.443050] [Elapsed time: 3475.81s]\n",
            "[Epoch 169/200] [D loss: 0.206770] [G loss: 2.092753] [Elapsed time: 3496.54s]\n",
            "[Epoch 170/200] [D loss: 0.226331] [G loss: 2.518112] [Elapsed time: 3517.02s]\n",
            "[Epoch 171/200] [D loss: 0.182665] [G loss: 1.755525] [Elapsed time: 3536.80s]\n",
            "[Epoch 172/200] [D loss: 0.298868] [G loss: 2.522925] [Elapsed time: 3556.85s]\n",
            "[Epoch 173/200] [D loss: 0.370802] [G loss: 2.625471] [Elapsed time: 3577.27s]\n",
            "[Epoch 174/200] [D loss: 0.295589] [G loss: 2.099859] [Elapsed time: 3596.78s]\n",
            "[Epoch 175/200] [D loss: 0.234139] [G loss: 1.704919] [Elapsed time: 3617.05s]\n",
            "[Epoch 176/200] [D loss: 0.229844] [G loss: 1.982293] [Elapsed time: 3637.54s]\n",
            "[Epoch 177/200] [D loss: 0.409332] [G loss: 2.317378] [Elapsed time: 3657.19s]\n",
            "[Epoch 178/200] [D loss: 0.286086] [G loss: 2.328076] [Elapsed time: 3677.51s]\n",
            "[Epoch 179/200] [D loss: 0.321437] [G loss: 1.740161] [Elapsed time: 3698.13s]\n",
            "[Epoch 180/200] [D loss: 0.378592] [G loss: 1.541317] [Elapsed time: 3717.73s]\n",
            "[Epoch 181/200] [D loss: 0.382691] [G loss: 1.984684] [Elapsed time: 3738.03s]\n",
            "[Epoch 182/200] [D loss: 0.226571] [G loss: 2.018706] [Elapsed time: 3758.33s]\n",
            "[Epoch 183/200] [D loss: 0.322082] [G loss: 2.238816] [Elapsed time: 3777.83s]\n",
            "[Epoch 184/200] [D loss: 0.370864] [G loss: 2.216980] [Elapsed time: 3797.99s]\n",
            "[Epoch 185/200] [D loss: 0.200879] [G loss: 2.391590] [Elapsed time: 3818.53s]\n",
            "[Epoch 186/200] [D loss: 0.257250] [G loss: 2.121577] [Elapsed time: 3837.95s]\n",
            "[Epoch 187/200] [D loss: 0.426747] [G loss: 2.007383] [Elapsed time: 3858.26s]\n",
            "[Epoch 188/200] [D loss: 0.194996] [G loss: 2.251887] [Elapsed time: 3878.21s]\n",
            "[Epoch 189/200] [D loss: 0.322835] [G loss: 2.023860] [Elapsed time: 3898.19s]\n",
            "[Epoch 190/200] [D loss: 0.295666] [G loss: 2.458124] [Elapsed time: 3918.52s]\n",
            "[Epoch 191/200] [D loss: 0.352277] [G loss: 1.626866] [Elapsed time: 3938.16s]\n",
            "[Epoch 192/200] [D loss: 0.335527] [G loss: 1.545153] [Elapsed time: 3958.46s]\n",
            "[Epoch 193/200] [D loss: 0.215406] [G loss: 2.352587] [Elapsed time: 3978.58s]\n",
            "[Epoch 194/200] [D loss: 0.408523] [G loss: 1.798904] [Elapsed time: 3998.09s]\n",
            "[Epoch 195/200] [D loss: 0.516728] [G loss: 2.003218] [Elapsed time: 4018.34s]\n",
            "[Epoch 196/200] [D loss: 0.208270] [G loss: 2.043202] [Elapsed time: 4038.71s]\n",
            "[Epoch 197/200] [D loss: 0.333313] [G loss: 1.940408] [Elapsed time: 4058.30s]\n",
            "[Epoch 198/200] [D loss: 0.339801] [G loss: 2.151542] [Elapsed time: 4078.37s]\n",
            "[Epoch 199/200] [D loss: 0.316541] [G loss: 1.799964] [Elapsed time: 4098.52s]\n"
          ]
        }
      ],
      "source": [
        "import time\n",
        "\n",
        "# number of epochs of training\n",
        "n_epochs = 200\n",
        "\n",
        "# interval between image samples\n",
        "sample_interval = 2000\n",
        "\n",
        "start_time = time.time()\n",
        "\n",
        "Tensor = torch.cuda.FloatTensor if cuda else torch.FloatTensor\n",
        "\n",
        "\n",
        "for epoch in range(n_epochs):\n",
        "    for i, (imgs, _) in enumerate(dataloader):\n",
        "\n",
        "        # Adversarial ground truths\n",
        "        ## 실제 이미지는 1로, 가짜 이미지는 0으로 label됩니다.\n",
        "        real = Variable(Tensor(imgs.size(0), 1).fill_(1.0), requires_grad=False)\n",
        "        fake = Variable(Tensor(imgs.size(0), 1).fill_(0.0), requires_grad=False)\n",
        "\n",
        "        # Configure input\n",
        "        real_imgs = Variable(imgs.type(Tensor))\n",
        "\n",
        "        # -----------------\n",
        "        #  Train Generator\n",
        "        # -----------------\n",
        "\n",
        "        optimizer_G.zero_grad()\n",
        "\n",
        "        # Sample noise as generator input\n",
        "        z = Variable(Tensor(np.random.normal(0, 1, (imgs.shape[0], latent_dim))))\n",
        "\n",
        "        # Generate a batch of images\n",
        "        ## random sampling한 값인 z를 생성자에 넣어 이미지를 생성합니다.\n",
        "        generated_imgs = generator(z)\n",
        "\n",
        "        # Loss measures generator's ability to fool the discriminator\n",
        "        ## 생성된 이미지를 discriminator가 판별하게 한 후, loss값을 계산합니다.\n",
        "        g_loss = adversarial_loss(discriminator(generated_imgs), real)\n",
        "\n",
        "        # 생성자(generator) 업데이트\n",
        "        g_loss.backward()\n",
        "        optimizer_G.step()\n",
        "\n",
        "        # ---------------------\n",
        "        #  Train Discriminator\n",
        "        # ---------------------\n",
        "\n",
        "        optimizer_D.zero_grad()\n",
        "\n",
        "        # Measure discriminator's ability to classify real from generated samples\n",
        "        ## 실제 이미지는 real(1)로, 가짜 이미지는 fake(0)으로 판별하도록 계산합니다.\n",
        "        real_loss = adversarial_loss(discriminator(real_imgs), real)\n",
        "        fake_loss = adversarial_loss(discriminator(generated_imgs.detach()), fake)\n",
        "        d_loss = (real_loss + fake_loss) / 2\n",
        "\n",
        "        # 판별자(discriminator) 업데이트\n",
        "        d_loss.backward()\n",
        "        optimizer_D.step()\n",
        "\n",
        "        done = epoch * len(dataloader) + i\n",
        "        if done % sample_interval == 0:\n",
        "            # 생성된 이미지 중에서 25개만 선택하여 5 X 5 격자 이미지에 출력\n",
        "            save_image(generated_imgs.data[:25], f\"data{epoch}.png\", nrow=5, normalize=True)\n",
        "\n",
        "    # 하나의 epoch이 끝날 때마다 로그(log) 출력\n",
        "    print(f\"[Epoch {epoch}/{n_epochs}] [D loss: {d_loss.item():.6f}] [G loss: {g_loss.item():.6f}] [Elapsed time: {time.time() - start_time:.2f}s]\")"
      ]
    },
    {
      "attachments": {},
      "cell_type": "markdown",
      "metadata": {
        "id": "dKhzqw6U8u-H"
      },
      "source": [
        "## Image\n",
        "|epoch 0| epoch 51 | epoch 100 | epoch 151 | epoch 198 |\n",
        "|---|---|---|---|---|\n",
        "| ![](https://github.com/happy-jihye/happy-jihye.github.io/blob/master/_posts/images/1_GAN_files/data0.png?raw=1) | ![](https://github.com/happy-jihye/happy-jihye.github.io/blob/master/_posts/images/1_GAN_files/data51.png?raw=1) | ![](https://github.com/happy-jihye/happy-jihye.github.io/blob/master/_posts/images/1_GAN_files/data100.png?raw=1) | ![](https://github.com/happy-jihye/happy-jihye.github.io/blob/master/_posts/images/1_GAN_files/data151.png?raw=1) | ![](https://github.com/happy-jihye/happy-jihye.github.io/blob/master/_posts/images/1_GAN_files/data198.png?raw=1) |"
      ]
    },
    {
      "attachments": {},
      "cell_type": "markdown",
      "metadata": {
        "id": "xmNC98jPGQpW"
      },
      "source": [
        "![](/content/data0.png)"
      ]
    },
    {
      "attachments": {},
      "cell_type": "markdown",
      "metadata": {
        "id": "svkidvK76R0k"
      },
      "source": [
        "## Reference\n",
        "- https://hyeongminlee.github.io/post/gan001_gan/"
      ]
    }
  ],
  "metadata": {
    "accelerator": "GPU",
    "colab": {
      "gpuType": "T4",
      "name": "1 - GAN",
      "provenance": []
    },
    "kernelspec": {
      "display_name": "Python 3",
      "name": "python3"
    },
    "language_info": {
      "name": "python",
      "version": "3.9.6"
    }
  },
  "nbformat": 4,
  "nbformat_minor": 0
}
